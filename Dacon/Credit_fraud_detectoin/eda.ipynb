{
 "cells": [
  {
   "cell_type": "markdown",
   "metadata": {},
   "source": [
    "# Import"
   ]
  },
  {
   "cell_type": "code",
   "execution_count": 6,
   "metadata": {},
   "outputs": [],
   "source": [
    "import pandas as pd\n",
    "import numpy as np\n",
    "\n",
    "import matplotlib.pyplot as plt\n",
    "import seaborn as sns\n"
   ]
  },
  {
   "cell_type": "markdown",
   "metadata": {},
   "source": [
    "# load Data"
   ]
  },
  {
   "cell_type": "code",
   "execution_count": 2,
   "metadata": {},
   "outputs": [],
   "source": [
    "train_df = pd.read_csv('./train.csv').drop('ID',axis=1)\n",
    "valid_df = pd.read_csv('./val.csv').drop('ID', axis=1)"
   ]
  },
  {
   "cell_type": "markdown",
   "metadata": {},
   "source": [
    "# EDA"
   ]
  },
  {
   "cell_type": "markdown",
   "metadata": {},
   "source": [
    "## 결측값 확인"
   ]
  },
  {
   "cell_type": "code",
   "execution_count": 3,
   "metadata": {},
   "outputs": [],
   "source": [
    "for i, c in enumerate(train_df.isna().sum()):\n",
    "    if c != 0:\n",
    "        print(f'V{i+1} 컬럼 결측값의 개수: {c}')\n",
    "\n",
    "for i, c in enumerate(valid_df.isna().sum()):\n",
    "    if c != 0:\n",
    "        print(f'V{i+1} 컬럼 결측값의 개수: {c}')\n",
    "    "
   ]
  },
  {
   "cell_type": "markdown",
   "metadata": {},
   "source": [
    "## Validation Dataset Correlation Analysis"
   ]
  },
  {
   "cell_type": "code",
   "execution_count": 4,
   "metadata": {},
   "outputs": [
    {
     "name": "stdout",
     "output_type": "stream",
     "text": [
      "0    28432\n",
      "1       30\n",
      "Name: Class, dtype: int64\n"
     ]
    },
    {
     "data": {
      "image/png": "[encoded data removed]",
      "text/plain": [
       "<Figure size 640x480 with 1 Axes>"
      ]
     },
     "metadata": {},
     "output_type": "display_data"
    }
   ],
   "source": [
    "valid_df['Class'].value_counts().plot(kind='bar')\n",
    "print(valid_df['Class'].value_counts())"
   ]
  },
  {
   "cell_type": "code",
   "execution_count": 5,
   "metadata": {},
   "outputs": [
    {
     "data": {
      "text/html": [
       "<div>\n",
       "<style scoped>\n",
       "    .dataframe tbody tr th:only-of-type {\n",
       "        vertical-align: middle;\n",
       "    }\n",
       "\n",
       "    .dataframe tbody tr th {\n",
       "        vertical-align: top;\n",
       "    }\n",
       "\n",
       "    .dataframe thead th {\n",
       "        text-align: right;\n",
       "    }\n",
       "</style>\n",
       "<table border=\"1\" class=\"dataframe\">\n",
       "  <thead>\n",
       "    <tr style=\"text-align: right;\">\n",
       "      <th></th>\n",
       "      <th>V1</th>\n",
       "      <th>V2</th>\n",
       "      <th>V3</th>\n",
       "      <th>V4</th>\n",
       "      <th>V5</th>\n",
       "      <th>V6</th>\n",
       "      <th>V7</th>\n",
       "      <th>V8</th>\n",
       "      <th>V9</th>\n",
       "      <th>V10</th>\n",
       "      <th>...</th>\n",
       "      <th>V22</th>\n",
       "      <th>V23</th>\n",
       "      <th>V24</th>\n",
       "      <th>V25</th>\n",
       "      <th>V26</th>\n",
       "      <th>V27</th>\n",
       "      <th>V28</th>\n",
       "      <th>V29</th>\n",
       "      <th>V30</th>\n",
       "      <th>Class</th>\n",
       "    </tr>\n",
       "  </thead>\n",
       "  <tbody>\n",
       "    <tr>\n",
       "      <th>0</th>\n",
       "      <td>-1.098101</td>\n",
       "      <td>1.206453</td>\n",
       "      <td>0.880566</td>\n",
       "      <td>-0.207190</td>\n",
       "      <td>0.043929</td>\n",
       "      <td>-0.438483</td>\n",
       "      <td>0.553795</td>\n",
       "      <td>0.051156</td>\n",
       "      <td>-0.534246</td>\n",
       "      <td>0.126919</td>\n",
       "      <td>...</td>\n",
       "      <td>0.278920</td>\n",
       "      <td>-0.185754</td>\n",
       "      <td>0.023667</td>\n",
       "      <td>0.037695</td>\n",
       "      <td>0.284680</td>\n",
       "      <td>-0.829683</td>\n",
       "      <td>-0.222983</td>\n",
       "      <td>-0.098791</td>\n",
       "      <td>-0.327647</td>\n",
       "      <td>0</td>\n",
       "    </tr>\n",
       "    <tr>\n",
       "      <th>1</th>\n",
       "      <td>-0.850957</td>\n",
       "      <td>-0.038907</td>\n",
       "      <td>1.234845</td>\n",
       "      <td>0.252437</td>\n",
       "      <td>-0.491635</td>\n",
       "      <td>1.300389</td>\n",
       "      <td>0.483954</td>\n",
       "      <td>0.155474</td>\n",
       "      <td>0.774682</td>\n",
       "      <td>-0.507209</td>\n",
       "      <td>...</td>\n",
       "      <td>0.882767</td>\n",
       "      <td>0.040040</td>\n",
       "      <td>0.019893</td>\n",
       "      <td>-0.171309</td>\n",
       "      <td>-0.608980</td>\n",
       "      <td>0.074134</td>\n",
       "      <td>0.008844</td>\n",
       "      <td>2.694054</td>\n",
       "      <td>0.446892</td>\n",
       "      <td>0</td>\n",
       "    </tr>\n",
       "    <tr>\n",
       "      <th>2</th>\n",
       "      <td>0.857321</td>\n",
       "      <td>4.093912</td>\n",
       "      <td>-7.423894</td>\n",
       "      <td>7.380245</td>\n",
       "      <td>0.973366</td>\n",
       "      <td>-2.730762</td>\n",
       "      <td>-1.496497</td>\n",
       "      <td>0.543015</td>\n",
       "      <td>-2.351190</td>\n",
       "      <td>-3.944238</td>\n",
       "      <td>...</td>\n",
       "      <td>0.145400</td>\n",
       "      <td>0.240603</td>\n",
       "      <td>-0.234649</td>\n",
       "      <td>-1.004881</td>\n",
       "      <td>0.435832</td>\n",
       "      <td>0.618324</td>\n",
       "      <td>0.148469</td>\n",
       "      <td>-0.293440</td>\n",
       "      <td>-0.899012</td>\n",
       "      <td>1</td>\n",
       "    </tr>\n",
       "    <tr>\n",
       "      <th>3</th>\n",
       "      <td>1.999899</td>\n",
       "      <td>-0.775735</td>\n",
       "      <td>-0.284871</td>\n",
       "      <td>0.531192</td>\n",
       "      <td>-0.795411</td>\n",
       "      <td>0.430213</td>\n",
       "      <td>-1.085847</td>\n",
       "      <td>0.209261</td>\n",
       "      <td>-0.249696</td>\n",
       "      <td>1.123391</td>\n",
       "      <td>...</td>\n",
       "      <td>0.438767</td>\n",
       "      <td>0.192761</td>\n",
       "      <td>0.664044</td>\n",
       "      <td>-0.127487</td>\n",
       "      <td>-0.535145</td>\n",
       "      <td>0.080420</td>\n",
       "      <td>-0.029477</td>\n",
       "      <td>-0.090827</td>\n",
       "      <td>0.827289</td>\n",
       "      <td>0</td>\n",
       "    </tr>\n",
       "    <tr>\n",
       "      <th>4</th>\n",
       "      <td>-1.948561</td>\n",
       "      <td>0.883574</td>\n",
       "      <td>-0.832719</td>\n",
       "      <td>-1.254614</td>\n",
       "      <td>-2.953686</td>\n",
       "      <td>0.892269</td>\n",
       "      <td>3.175510</td>\n",
       "      <td>0.228270</td>\n",
       "      <td>-0.707266</td>\n",
       "      <td>-1.428927</td>\n",
       "      <td>...</td>\n",
       "      <td>-0.533468</td>\n",
       "      <td>0.476328</td>\n",
       "      <td>-0.382893</td>\n",
       "      <td>0.051280</td>\n",
       "      <td>0.724433</td>\n",
       "      <td>0.383769</td>\n",
       "      <td>-0.063761</td>\n",
       "      <td>9.459932</td>\n",
       "      <td>-0.537976</td>\n",
       "      <td>0</td>\n",
       "    </tr>\n",
       "  </tbody>\n",
       "</table>\n",
       "<p>5 rows × 31 columns</p>\n",
       "</div>"
      ],
      "text/plain": [
       "         V1        V2        V3        V4        V5        V6        V7  \\\n",
       "0 -1.098101  1.206453  0.880566 -0.207190  0.043929 -0.438483  0.553795   \n",
       "1 -0.850957 -0.038907  1.234845  0.252437 -0.491635  1.300389  0.483954   \n",
       "2  0.857321  4.093912 -7.423894  7.380245  0.973366 -2.730762 -1.496497   \n",
       "3  1.999899 -0.775735 -0.284871  0.531192 -0.795411  0.430213 -1.085847   \n",
       "4 -1.948561  0.883574 -0.832719 -1.254614 -2.953686  0.892269  3.175510   \n",
       "\n",
       "         V8        V9       V10  ...       V22       V23       V24       V25  \\\n",
       "0  0.051156 -0.534246  0.126919  ...  0.278920 -0.185754  0.023667  0.037695   \n",
       "1  0.155474  0.774682 -0.507209  ...  0.882767  0.040040  0.019893 -0.171309   \n",
       "2  0.543015 -2.351190 -3.944238  ...  0.145400  0.240603 -0.234649 -1.004881   \n",
       "3  0.209261 -0.249696  1.123391  ...  0.438767  0.192761  0.664044 -0.127487   \n",
       "4  0.228270 -0.707266 -1.428927  ... -0.533468  0.476328 -0.382893  0.051280   \n",
       "\n",
       "        V26       V27       V28       V29       V30  Class  \n",
       "0  0.284680 -0.829683 -0.222983 -0.098791 -0.327647      0  \n",
       "1 -0.608980  0.074134  0.008844  2.694054  0.446892      0  \n",
       "2  0.435832  0.618324  0.148469 -0.293440 -0.899012      1  \n",
       "3 -0.535145  0.080420 -0.029477 -0.090827  0.827289      0  \n",
       "4  0.724433  0.383769 -0.063761  9.459932 -0.537976      0  \n",
       "\n",
       "[5 rows x 31 columns]"
      ]
     },
     "execution_count": 5,
     "metadata": {},
     "output_type": "execute_result"
    }
   ],
   "source": [
    "# class가 0과 1의 비율이 1:1이 되도록 샘플링\n",
    "non_fraud_df = valid_df[valid_df['Class']==0].sample(n=30, random_state=1)\n",
    "fraud_df = valid_df[valid_df['Class']==1]\n",
    "\n",
    "new_valid_df = pd.concat([fraud_df, non_fraud_df])\n",
    "new_valid_df = new_valid_df.sample(frac=1, random_state=1).reset_index(drop=True) # 데이터프레임 행 섞기\n",
    "new_valid_df.head()"
   ]
  },
  {
   "cell_type": "code",
   "execution_count": 7,
   "metadata": {},
   "outputs": [
    {
     "data": {
      "image/png": "[encoded data removed]",
      "text/plain": [
       "<Figure size 640x480 with 1 Axes>"
      ]
     },
     "metadata": {},
     "output_type": "display_data"
    }
   ],
   "source": [
    "sns.countplot(x='Class', data=new_valid_df)\n",
    "plt.title(\"Distributed Classes\")\n",
    "plt.show()\n"
   ]
  },
  {
   "cell_type": "markdown",
   "metadata": {},
   "source": [
    "## Correlation Matrix"
   ]
  },
  {
   "cell_type": "code",
   "execution_count": 8,
   "metadata": {},
   "outputs": [
    {
     "data": {
      "image/png": "[encoded data removed]",
      "text/plain": [
       "<Figure size 640x480 with 2 Axes>"
      ]
     },
     "metadata": {},
     "output_type": "display_data"
    }
   ],
   "source": [
    "cm = new_valid_df.corr()\n",
    "sns.heatmap(cm)\n",
    "plt.title('Correlation Matrix')\n",
    "plt.show()"
   ]
  },
  {
   "cell_type": "code",
   "execution_count": 9,
   "metadata": {},
   "outputs": [
    {
     "name": "stdout",
     "output_type": "stream",
     "text": [
      "0 V14 -0.7707858994792842\n",
      "1 V12 -0.7019921916206477\n",
      "2 V10 -0.6610144234987699\n",
      "3 V3 -0.6149179919346767\n",
      "4 V9 -0.6121667731052577\n",
      "5 V6 -0.5849010193230738\n",
      "6 V16 -0.5817192648325998\n",
      "7 V17 -0.5794971699808791\n",
      "8 V7 -0.5164382889143714\n",
      "9 V1 -0.48442146458238156\n",
      "10 V18 -0.47722760412664195\n",
      "11 V5 -0.41666938771770323\n",
      "12 V24 -0.25728153114451807\n",
      "13 V27 -0.20109232016693812\n",
      "14 V28 -0.1829995975653561\n",
      "15 V15 -0.1382695672154113\n",
      "16 V30 -0.108154314658006\n",
      "17 V29 -0.05073265127423509\n",
      "18 V23 -0.04973420300505126\n",
      "19 V25 -0.02744470373254583\n",
      "20 V21 -0.020654534611703926\n",
      "21 V13 0.06344418270995372\n",
      "22 V26 0.1166121825421633\n",
      "23 V8 0.16093584743547618\n",
      "24 V20 0.23333428167946083\n",
      "25 V19 0.2543995768301764\n",
      "26 V22 0.25551648692877477\n",
      "27 V2 0.5595777644755073\n",
      "28 V4 0.6984489515749778\n",
      "29 V11 0.7059869166752719\n"
     ]
    }
   ],
   "source": [
    "for i, (k,v) in enumerate(cm['Class'][:-1].sort_values().items()):\n",
    "    print(i, k, v)"
   ]
  },
  {
   "cell_type": "code",
   "execution_count": 10,
   "metadata": {},
   "outputs": [],
   "source": [
    "sort_key = list(cm['Class'][:-1].sort_values().keys())"
   ]
  },
  {
   "cell_type": "code",
   "execution_count": 11,
   "metadata": {},
   "outputs": [
    {
     "name": "stdout",
     "output_type": "stream",
     "text": [
      "['V14', 'V12', 'V10', 'V3', 'V9', 'V6', 'V16', 'V17', 'V7', 'V2', 'V4', 'V11']\n",
      "사용할 컬럼 개수:  12\n"
     ]
    }
   ],
   "source": [
    "n = sort_key[:9]\n",
    "p = sort_key[-3:]\n",
    "new_v_columns = n+p\n",
    "print(new_v_columns)\n",
    "print(\"사용할 컬럼 개수: \", len(new_v_columns))"
   ]
  }
 ],
 "metadata": {
  "kernelspec": {
   "display_name": "Python 3.8.14 ('hg')",
   "language": "python",
   "name": "python3"
  },
  "language_info": {
   "codemirror_mode": {
    "name": "ipython",
    "version": 3
   },
   "file_extension": ".py",
   "mimetype": "text/x-python",
   "name": "python",
   "nbconvert_exporter": "python",
   "pygments_lexer": "ipython3",
   "version": "3.8.14"
  },
  "orig_nbformat": 4,
  "vscode": {
   "interpreter": {
    "hash": "a89b10a71bbbd74c2679eb33295672f2024448b5b6f1a9d866f7fe38b5792374"
   }
  }
 },
 "nbformat": 4,
 "nbformat_minor": 2
}
